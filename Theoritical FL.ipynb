{
 "cells": [
  {
   "cell_type": "code",
   "id": "initial_id",
   "metadata": {
    "collapsed": true,
    "ExecuteTime": {
     "end_time": "2025-09-24T19:53:41.459909Z",
     "start_time": "2025-09-24T19:53:37.730419Z"
    }
   },
   "source": [
    "import fastf1\n",
    "import pandas as pd\n",
    "\n",
    "fastf1.Cache.enable_cache('cache')\n",
    "\n",
    "# Load session (example: Baku 2023 Qualifying)\n",
    "session = fastf1.get_session(2025, 'Azerbaijan Grand Prix', 'Q')\n",
    "session.load()\n",
    "\n",
    "laps = session.laps.pick_quicklaps()\n",
    "\n",
    "def format_laptime(seconds):\n",
    "    if pd.isna(seconds):\n",
    "        return None\n",
    "    minutes = int(seconds // 60)\n",
    "    secs = seconds % 60\n",
    "    return f\"{minutes}:{secs:06.3f}\"\n",
    "\n",
    "data = []\n",
    "for drv in session.drivers:\n",
    "    d_laps = laps.pick_drivers(drv)\n",
    "    if len(d_laps) == 0:\n",
    "        continue\n",
    "\n",
    "    # Map driver number -> driver code\n",
    "    driver_info = session.get_driver(drv)\n",
    "    name = driver_info['Abbreviation']   # short code (VER, LEC, etc.)\n",
    "\n",
    "    # Actual fastest lap\n",
    "    actual = d_laps.pick_fastest()['LapTime'].total_seconds()\n",
    "\n",
    "    # Theoretical fastest lap for this driver\n",
    "    s1 = d_laps['Sector1Time'].min().total_seconds()\n",
    "    s2 = d_laps['Sector2Time'].min().total_seconds()\n",
    "    s3 = d_laps['Sector3Time'].min().total_seconds()\n",
    "    tfl = s1+s2+s3\n",
    "\n",
    "    data.append({\n",
    "        \"Driver\": name,\n",
    "        \"Fastest Lap\": format_laptime(actual),\n",
    "        \"Theoretical Lap\": format_laptime(tfl),\n",
    "        \"Gap (s)\": f\"{(actual - tfl):.3f}\"\n",
    "    })\n",
    "\n",
    "df = pd.DataFrame(data).sort_values(\"Fastest Lap\")\n",
    "\n",
    "# --- Overall session TFL ---\n",
    "best_s1 = laps['Sector1Time'].min().total_seconds()\n",
    "best_s2 = laps['Sector2Time'].min().total_seconds()\n",
    "best_s3 = laps['Sector3Time'].min().total_seconds()\n",
    "overall_tfl = best_s1 + best_s2 + best_s3\n",
    "\n",
    "# Add as new row at bottom\n",
    "df.loc[len(df)] = {\n",
    "    \"Driver\": \"SESSION TFL\",\n",
    "    \"Fastest Lap\": \"-\",\n",
    "    \"Theoretical Lap\": format_laptime(overall_tfl),\n",
    "    \"Gap (s)\": \"-\"\n",
    "}\n",
    "\n",
    "print(df.to_string(index=False))\n"
   ],
   "outputs": [
    {
     "name": "stderr",
     "output_type": "stream",
     "text": [
      "core           INFO \tLoading data for Azerbaijan Grand Prix - Qualifying [v3.6.1]\n",
      "req            INFO \tUsing cached data for session_info\n",
      "req            INFO \tUsing cached data for driver_info\n",
      "req            INFO \tUsing cached data for session_status_data\n",
      "req            INFO \tUsing cached data for track_status_data\n",
      "req            INFO \tUsing cached data for _extended_timing_data\n",
      "req            INFO \tUsing cached data for timing_app_data\n",
      "core           INFO \tProcessing timing data...\n",
      "req            INFO \tUsing cached data for car_data\n",
      "req            INFO \tUsing cached data for position_data\n",
      "req            INFO \tUsing cached data for weather_data\n",
      "req            INFO \tUsing cached data for race_control_messages\n",
      "core           INFO \tFinished loading data for 20 drivers: ['1', '55', '30', '12', '63', '22', '4', '6', '81', '16', '14', '44', '5', '18', '87', '43', '27', '10', '23', '31']\n"
     ]
    },
    {
     "name": "stdout",
     "output_type": "stream",
     "text": [
      "     Driver Fastest Lap Theoretical Lap Gap (s)\n",
      "        VER    1:41.117        1:40.845   0.272\n",
      "        NOR    1:41.322        1:41.176   0.146\n",
      "        PIA    1:41.414        1:41.216   0.198\n",
      "        RUS    1:41.455        1:41.155   0.300\n",
      "        LEC    1:41.458        1:41.222   0.236\n",
      "        ANT    1:41.464        1:41.416   0.048\n",
      "        LAW    1:41.537        1:41.210   0.327\n",
      "        SAI    1:41.595        1:40.928   0.667\n",
      "        HAD    1:41.647        1:41.454   0.193\n",
      "        TSU    1:41.788        1:41.578   0.210\n",
      "        HAM    1:41.821        1:41.821   0.000\n",
      "        ALO    1:41.857        1:41.781   0.076\n",
      "        STR    1:42.101        1:41.918   0.183\n",
      "        BOR    1:42.277        1:42.035   0.242\n",
      "        BEA    1:42.666        1:42.621   0.045\n",
      "        COL    1:42.779        1:42.613   0.166\n",
      "        HUL    1:42.916        1:42.916   0.000\n",
      "        OCO    1:43.004        1:42.957   0.047\n",
      "        GAS    1:43.139        1:42.879   0.260\n",
      "        ALB    1:43.778        1:43.778   0.000\n",
      "SESSION TFL           -        1:40.577       -\n"
     ]
    }
   ],
   "execution_count": 10
  },
  {
   "metadata": {},
   "cell_type": "code",
   "outputs": [],
   "execution_count": null,
   "source": "",
   "id": "c2e9292c0180bc24"
  }
 ],
 "metadata": {
  "kernelspec": {
   "display_name": "Python 3",
   "language": "python",
   "name": "python3"
  },
  "language_info": {
   "codemirror_mode": {
    "name": "ipython",
    "version": 2
   },
   "file_extension": ".py",
   "mimetype": "text/x-python",
   "name": "python",
   "nbconvert_exporter": "python",
   "pygments_lexer": "ipython2",
   "version": "2.7.6"
  }
 },
 "nbformat": 4,
 "nbformat_minor": 5
}
